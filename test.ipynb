{
 "cells": [
  {
   "cell_type": "code",
   "execution_count": 1,
   "metadata": {},
   "outputs": [],
   "source": [
    "import carla\n",
    "import random\n",
    "\n",
    "# Connect to the client and retrieve the world object\n",
    "client = carla.Client('localhost', 2000)\n",
    "# client.set_timeout(500)\n",
    "world = client.get_world()"
   ]
  },
  {
   "cell_type": "code",
   "execution_count": null,
   "outputs": [],
   "source": [
    "#python config.py --map Town02"
   ],
   "metadata": {
    "collapsed": false,
    "pycharm": {
     "name": "#%%\n"
    }
   }
  },
  {
   "cell_type": "code",
   "execution_count": 2,
   "metadata": {},
   "outputs": [],
   "source": [
    "spawn_points = world.get_map().get_spawn_points()\n",
    "spawn_0 = spawn_points[0]\n",
    "spawn_points = spawn_points[1:]\n",
    "vehicle_blueprints = world.get_blueprint_library().filter('*vehicle*')\n",
    "my_vehicle = world.spawn_actor(random.choice(vehicle_blueprints), spawn_0)"
   ]
  },
  {
   "cell_type": "code",
   "execution_count": null,
   "outputs": [],
   "source": [
    "for i in range(0,50):\n",
    "    world.try_spawn_actor(random.choice(vehicle_blueprints, random.choice(spawn_points)))\n",
    "for vehicle in world.get_actors().filter('vehicle'):\n",
    "    vehicle.set_autopilot(True)"
   ],
   "metadata": {
    "collapsed": false,
    "pycharm": {
     "name": "#%%\n"
    }
   }
  },
  {
   "cell_type": "code",
   "execution_count": 3,
   "outputs": [],
   "source": [
    "blueprint = world.get_blueprint_library().find('sensor.camera.rgb')\n",
    "# Modify the attributes of the blueprint to set image resolution and field of view.\n",
    "blueprint.set_attribute('image_size_x', '1920')\n",
    "blueprint.set_attribute('image_size_y', '1080')\n",
    "blueprint.set_attribute('fov', '110')\n",
    "#blueprint.set_attribute('sensor_tick', '1.5')\n",
    "blueprint.set_attribute('blur_amount', '0')\n",
    "#motion_blur_max_distortion\n",
    "blueprint.set_attribute('motion_blur_max_distortion', '0')\n",
    "# Set the time in seconds between sensor captures\n",
    "blueprint.set_attribute('sensor_tick', '3.0')\n",
    "blueprint.set_attribute('shutter_speed', '100.0')\n",
    "transform = carla.Transform(carla.Location(x=0.8, z=1.7))\n",
    "sensor = world.spawn_actor(blueprint, transform, attach_to=my_vehicle)\n",
    "#sensor.listen(lambda image: image.save_to_disk('out/%06d.png' % image.frame))\n"
   ],
   "metadata": {
    "collapsed": false,
    "pycharm": {
     "name": "#%%\n"
    }
   }
  },
  {
   "cell_type": "code",
   "execution_count": 6,
   "outputs": [],
   "source": [
    "spectator = world.get_spectator()\n",
    "spectator.set_transform(spawn_0)"
   ],
   "metadata": {
    "collapsed": false,
    "pycharm": {
     "name": "#%%\n"
    }
   }
  },
  {
   "cell_type": "code",
   "execution_count": 4,
   "outputs": [],
   "source": [
    "my_vehicle.set_autopilot(True)"
   ],
   "metadata": {
    "collapsed": false,
    "pycharm": {
     "name": "#%%\n"
    }
   }
  },
  {
   "cell_type": "markdown",
   "source": [
    "## BB Stuff\n",
    "Realistically we can only get 3 classes TrafficSigns, Pedestrians, and Vehicles"
   ],
   "metadata": {
    "collapsed": false,
    "pycharm": {
     "name": "#%% md\n"
    }
   }
  },
  {
   "cell_type": "code",
   "execution_count": 2,
   "outputs": [],
   "source": [
    "import queue\n",
    "world  = client.get_world()\n",
    "bp_lib = world.get_blueprint_library()\n",
    "\n",
    "# spawn vehicle\n",
    "vehicle_bp =bp_lib.find('vehicle.lincoln.mkz_2020')\n",
    "spawn_points = world.get_map().get_spawn_points()\n",
    "vehicle = world.try_spawn_actor(vehicle_bp, random.choice(spawn_points))\n",
    "\n",
    "# spawn camera\n",
    "camera_bp = bp_lib.find('sensor.camera.rgb')\n",
    "#camera_bp.set_attribute('sensor_tick', '3.0')\n",
    "camera_bp.set_attribute('image_size_x', '1920')\n",
    "camera_bp.set_attribute('image_size_y', '1080')\n",
    "camera_bp.set_attribute('fov', '110')\n",
    "camera_init_trans = carla.Transform(carla.Location(z=2))\n",
    "camera = world.spawn_actor(camera_bp, camera_init_trans, attach_to=vehicle)\n",
    "vehicle.set_autopilot(True)\n",
    "\n",
    "# Set up the simulator in synchronous mode\n",
    "settings = world.get_settings()\n",
    "settings.synchronous_mode = True # Enables synchronous mode\n",
    "settings.fixed_delta_seconds = 5\n",
    "world.apply_settings(settings)\n",
    "\n",
    "# Get the map spawn points\n",
    "spawn_points = world.get_map().get_spawn_points()\n",
    "\n",
    "# Create a queue to store and retrieve the sensor data\n",
    "image_queue = queue.Queue()\n",
    "camera.listen(image_queue.put)"
   ],
   "metadata": {
    "collapsed": false,
    "pycharm": {
     "name": "#%%\n"
    }
   }
  },
  {
   "cell_type": "code",
   "execution_count": 3,
   "outputs": [],
   "source": [
    "import numpy as np\n",
    "def build_projection_matrix(w, h, fov):\n",
    "    focal = w / (2.0 * np.tan(fov * np.pi / 360.0))\n",
    "    K = np.identity(3)\n",
    "    K[0, 0] = K[1, 1] = focal\n",
    "    K[0, 2] = w / 2.0\n",
    "    K[1, 2] = h / 2.0\n",
    "    return K\n",
    "\n",
    "def get_image_point(loc, K, w2c):\n",
    "        # Calculate 2D projection of 3D coordinate\n",
    "\n",
    "        # Format the input coordinate (loc is a carla.Position object)\n",
    "        point = np.array([loc.x, loc.y, loc.z, 1])\n",
    "        # transform to camera coordinates\n",
    "        point_camera = np.dot(w2c, point)\n",
    "\n",
    "        # New we must change from UE4's coordinate system to an \"standard\"\n",
    "        # (x, y ,z) -> (y, -z, x)\n",
    "        # and we remove the fourth componebonent also\n",
    "        point_camera = [point_camera[1], -point_camera[2], point_camera[0]]\n",
    "\n",
    "        # now project 3D->2D using the camera matrix\n",
    "        point_img = np.dot(K, point_camera)\n",
    "        # normalize\n",
    "        point_img[0] /= point_img[2]\n",
    "        point_img[1] /= point_img[2]\n",
    "\n",
    "        return point_img[0:2]"
   ],
   "metadata": {
    "collapsed": false,
    "pycharm": {
     "name": "#%%\n"
    }
   }
  },
  {
   "cell_type": "code",
   "execution_count": 4,
   "outputs": [],
   "source": [
    "world_2_camera = np.array(camera.get_transform().get_inverse_matrix())\n",
    "\n",
    "# Get the attributes from the camera\n",
    "image_w = camera_bp.get_attribute(\"image_size_x\").as_int()\n",
    "image_h = camera_bp.get_attribute(\"image_size_y\").as_int()\n",
    "fov = camera_bp.get_attribute(\"fov\").as_float()\n",
    "\n",
    "# Calculate the camera projection matrix to project from 3D -> 2D\n",
    "K = build_projection_matrix(image_w, image_h, fov)"
   ],
   "metadata": {
    "collapsed": false,
    "pycharm": {
     "name": "#%%\n"
    }
   }
  },
  {
   "cell_type": "code",
   "execution_count": 55,
   "outputs": [],
   "source": [
    "bounding_box_set = world.get_level_bbs(carla.CityObjectLabel.TrafficLight)\n",
    "bounding_box_set.extend(world.get_level_bbs(carla.CityObjectLabel.TrafficSigns))\n",
    "\n",
    "# Remember the edge pairs\n",
    "edges = [[0,1], [1,3], [3,2], [2,0], [0,4], [4,5], [5,1], [5,7], [7,6], [6,4], [6,2], [7,3]]"
   ],
   "metadata": {
    "collapsed": false,
    "pycharm": {
     "name": "#%%\n"
    }
   }
  },
  {
   "cell_type": "code",
   "execution_count": 17,
   "outputs": [
    {
     "name": "stdout",
     "output_type": "stream",
     "text": [
      "Location(x=-5.076151, y=184.659592, z=3.424569) spectator\n",
      "Location(x=147.110016, y=234.222107, z=0.220000) traffic.traffic_light\n",
      "Location(x=129.550003, y=226.559998, z=0.220000) traffic.traffic_light\n",
      "Location(x=122.480003, y=243.816986, z=0.220000) traffic.traffic_light\n",
      "Location(x=121.369987, y=194.089951, z=0.220000) traffic.traffic_light\n",
      "Location(x=138.929977, y=201.819962, z=0.220000) traffic.traffic_light\n",
      "Location(x=146.000000, y=184.829971, z=0.220000) traffic.traffic_light\n",
      "Location(x=30.959990, y=194.289963, z=0.220000) traffic.traffic_light\n",
      "Location(x=48.519978, y=203.279953, z=0.220000) traffic.traffic_light\n",
      "Location(x=58.050007, y=185.029984, z=0.220000) traffic.traffic_light\n",
      "Location(x=186.950058, y=176.769974, z=0.220000) traffic.traffic_light\n",
      "Location(x=179.220016, y=194.329910, z=0.220000) traffic.traffic_light\n",
      "Location(x=196.210022, y=201.400040, z=0.220000) traffic.traffic_light\n",
      "Location(x=186.950058, y=226.179977, z=0.220000) traffic.traffic_light\n",
      "Location(x=179.220016, y=243.739914, z=0.220000) traffic.traffic_light\n",
      "Location(x=196.210022, y=250.810028, z=0.220000) traffic.traffic_light\n",
      "Location(x=6.910000, y=184.959991, z=0.220000) traffic.traffic_light\n",
      "Location(x=-10.080000, y=177.889999, z=0.220000) traffic.traffic_light\n",
      "Location(x=48.529999, y=251.759995, z=0.220000) traffic.traffic_light\n",
      "Location(x=56.259998, y=234.199997, z=0.220000) traffic.traffic_light\n",
      "Location(x=39.270000, y=227.129990, z=0.220000) traffic.traffic_light\n",
      "Location(x=56.690014, y=299.989319, z=0.220000) traffic.traffic_light\n",
      "Location(x=39.129993, y=289.529999, z=0.220000) traffic.traffic_light\n",
      "Location(x=32.060009, y=309.410004, z=0.220000) traffic.traffic_light\n",
      "Location(x=-0.820000, y=202.519989, z=0.220000) traffic.traffic_light\n",
      "Location(x=147.550003, y=103.049995, z=0.320000) traffic.speed_limit.90\n",
      "Location(x=22.959999, y=112.009995, z=0.320000) traffic.speed_limit.90\n",
      "Location(x=143.750000, y=112.139999, z=0.360000) traffic.speed_limit.60\n",
      "Location(x=46.230000, y=102.939995, z=0.360000) traffic.speed_limit.60\n",
      "Location(x=53.270000, y=309.389984, z=0.360000) traffic.speed_limit.60\n",
      "Location(x=153.809998, y=300.220001, z=0.360000) traffic.speed_limit.60\n",
      "Location(x=196.319992, y=169.239990, z=0.360000) traffic.speed_limit.60\n",
      "Location(x=187.459991, y=254.089996, z=0.360000) traffic.speed_limit.60\n",
      "Location(x=166.660004, y=103.059998, z=0.360000) traffic.speed_limit.60\n",
      "Location(x=7.980000, y=194.000000, z=0.360000) traffic.speed_limit.30\n",
      "Location(x=160.669998, y=111.930000, z=0.360000) traffic.speed_limit.30\n",
      "Location(x=23.219999, y=103.110001, z=0.360000) traffic.speed_limit.30\n",
      "Location(x=48.548096, y=293.540009, z=0.360020) traffic.speed_limit.30\n",
      "Location(x=34.399998, y=300.109985, z=0.360000) traffic.speed_limit.30\n",
      "Location(x=196.099991, y=260.130005, z=0.360000) traffic.speed_limit.30\n",
      "Location(x=187.149994, y=283.899994, z=0.360000) traffic.speed_limit.30\n",
      "Location(x=161.440002, y=309.049988, z=0.360000) traffic.speed_limit.30\n",
      "Location(x=-9.880000, y=208.759995, z=0.360000) traffic.speed_limit.30\n",
      "Location(x=196.050003, y=135.179993, z=0.360000) traffic.speed_limit.30\n",
      "Location(x=-1.000000, y=135.220001, z=0.360000) traffic.speed_limit.30\n",
      "Location(x=74.209999, y=300.119995, z=0.360000) traffic.speed_limit.30\n",
      "Location(x=7.227638, y=293.228424, z=0.241279) static.prop.mesh\n",
      "Location(x=5.982678, y=292.057709, z=0.240000) static.prop.mesh\n",
      "Location(x=4.646912, y=293.202484, z=0.240000) static.prop.mesh\n",
      "Location(x=5.809961, y=294.561646, z=0.240000) static.prop.mesh\n",
      "Location(x=6.648972, y=288.049103, z=0.240000) static.prop.mesh\n",
      "Location(x=4.942763, y=287.952484, z=0.240000) static.prop.mesh\n",
      "Location(x=4.655368, y=289.688080, z=0.240000) static.prop.mesh\n",
      "Location(x=6.419961, y=289.981659, z=0.240000) static.prop.mesh\n",
      "Location(x=9.288971, y=284.219116, z=0.240000) static.prop.mesh\n",
      "Location(x=7.582764, y=284.122498, z=0.240000) static.prop.mesh\n",
      "Location(x=7.295368, y=285.858093, z=0.240000) static.prop.mesh\n",
      "Location(x=9.059960, y=286.151642, z=0.240000) static.prop.mesh\n",
      "Location(x=10.519333, y=289.989594, z=0.262424) static.prop.mesh\n",
      "Location(x=8.812763, y=289.892487, z=0.242695) static.prop.mesh\n",
      "Location(x=8.525750, y=291.627167, z=0.263153) static.prop.mesh\n",
      "Location(x=10.261662, y=291.912994, z=0.305970) static.prop.mesh\n",
      "Location(x=14.027763, y=285.873169, z=0.322021) static.prop.mesh\n",
      "Location(x=12.330682, y=285.728790, z=0.314076) static.prop.mesh\n",
      "Location(x=12.107609, y=287.114746, z=0.265724) static.prop.mesh\n",
      "Location(x=13.867565, y=287.411835, z=0.282776) static.prop.mesh\n",
      "Location(x=14.609136, y=291.559113, z=0.311844) static.prop.mesh\n",
      "Location(x=12.843179, y=291.460144, z=0.369278) static.prop.mesh\n",
      "Location(x=12.561782, y=293.205933, z=0.334218) static.prop.mesh\n",
      "Location(x=14.320568, y=293.490784, z=0.309667) static.prop.mesh\n",
      "Location(x=33.148972, y=291.559113, z=0.240000) static.prop.mesh\n",
      "Location(x=31.442543, y=291.462555, z=0.240656) static.prop.mesh\n",
      "Location(x=31.155355, y=293.198090, z=0.241389) static.prop.mesh\n",
      "Location(x=32.919960, y=293.491669, z=0.240000) static.prop.mesh\n",
      "Location(x=28.658972, y=291.999084, z=0.267975) static.prop.mesh\n",
      "Location(x=26.952082, y=291.904633, z=0.304162) static.prop.mesh\n",
      "Location(x=26.679518, y=293.637909, z=0.293445) static.prop.mesh\n",
      "Location(x=28.429918, y=293.931427, z=0.278391) static.prop.mesh\n",
      "Location(x=32.148899, y=286.329071, z=0.270729) static.prop.mesh\n",
      "Location(x=30.442911, y=286.232330, z=0.277329) static.prop.mesh\n",
      "Location(x=30.155128, y=287.968170, z=0.267959) static.prop.mesh\n",
      "Location(x=31.919846, y=288.261597, z=0.258662) static.prop.mesh\n",
      "Location(x=28.140591, y=283.376617, z=0.274821) static.prop.mesh\n",
      "Location(x=26.432564, y=283.282501, z=0.285389) static.prop.mesh\n",
      "Location(x=26.307289, y=284.979218, z=0.363862) static.prop.mesh\n",
      "Location(x=27.921488, y=285.304657, z=0.292343) static.prop.mesh\n",
      "Location(x=32.858974, y=277.889130, z=0.263726) static.prop.mesh\n",
      "Location(x=31.152761, y=277.792511, z=0.269167) static.prop.mesh\n",
      "Location(x=30.865473, y=279.527344, z=0.308669) static.prop.mesh\n",
      "Location(x=32.640133, y=279.814514, z=0.290431) static.prop.mesh\n",
      "Location(x=27.539062, y=275.148834, z=0.273446) static.prop.mesh\n",
      "Location(x=25.832764, y=275.052429, z=0.283183) static.prop.mesh\n",
      "Location(x=25.545368, y=276.788086, z=0.286875) static.prop.mesh\n",
      "Location(x=27.309929, y=277.081604, z=0.286344) static.prop.mesh\n",
      "Location(x=24.918249, y=279.604492, z=0.291264) static.prop.mesh\n",
      "Location(x=23.212576, y=279.499695, z=0.418643) static.prop.mesh\n",
      "Location(x=22.925312, y=281.255066, z=0.359741) static.prop.mesh\n",
      "Location(x=24.667694, y=281.475311, z=0.284422) static.prop.mesh\n",
      "Location(x=5.675611, y=288.950867, z=0.240000) static.prop.mesh\n",
      "Location(x=8.315611, y=285.120850, z=0.240000) static.prop.mesh\n",
      "Location(x=9.546713, y=290.892334, z=0.271516) static.prop.mesh\n",
      "Location(x=13.133128, y=286.579315, z=0.303066) static.prop.mesh\n",
      "Location(x=13.597296, y=292.505493, z=0.344255) static.prop.mesh\n",
      "Location(x=32.175610, y=292.460846, z=0.240000) static.prop.mesh\n",
      "Location(x=27.685541, y=292.900665, z=0.275217) static.prop.mesh\n",
      "Location(x=31.175604, y=287.230652, z=0.270695) static.prop.mesh\n",
      "Location(x=27.189362, y=284.264984, z=0.302641) static.prop.mesh\n",
      "Location(x=31.885422, y=278.789124, z=0.291257) static.prop.mesh\n",
      "Location(x=26.565573, y=276.050812, z=0.281138) static.prop.mesh\n",
      "Location(x=23.919462, y=280.469635, z=0.354821) static.prop.mesh\n",
      "Location(x=5.900000, y=293.299988, z=0.240000) static.prop.mesh\n",
      "Location(x=110.978363, y=306.506989, z=0.214692) vehicle.lincoln.mkz_2020\n",
      "Location(x=110.971123, y=306.507233, z=2.214679) sensor.camera.rgb\n"
     ]
    }
   ],
   "source": [
    "actor_list = world.get_actors()\n",
    "for i in actor_list:\n",
    "    print(i.get_location(), i.type_id)"
   ],
   "metadata": {
    "collapsed": false,
    "pycharm": {
     "name": "#%%\n"
    }
   }
  },
  {
   "cell_type": "code",
   "execution_count": 12,
   "outputs": [
    {
     "data": {
      "text/plain": "(108.19998168945312, 333.25)"
     },
     "execution_count": 12,
     "metadata": {},
     "output_type": "execute_result"
    }
   ],
   "source": [
    "location = world.get_level_bbs(carla.CityObjectLabel.TrafficSigns)[0].location\n",
    "location.x, location.y"
   ],
   "metadata": {
    "collapsed": false,
    "pycharm": {
     "name": "#%%\n"
    }
   }
  },
  {
   "cell_type": "markdown",
   "source": [
    "## Some issues with conversion from 3D bb to 2"
   ],
   "metadata": {
    "collapsed": false,
    "pycharm": {
     "name": "#%% md\n"
    }
   }
  },
  {
   "cell_type": "code",
   "execution_count": 71,
   "outputs": [
    {
     "name": "stdout",
     "output_type": "stream",
     "text": [
      "-1.0256996154785156 202.78057861328125\n",
      "traffic.traffic_light\n",
      "[1036.21339947  542.40892302]\n",
      "[1036.22054887  501.62342835]\n",
      "[1037.95971435  542.48659962]\n",
      "[1037.96718592  500.76686204]\n",
      "[1045.46818968  542.40900964]\n",
      "[1045.47615976  501.62354038]\n",
      "[1047.42647825  542.48668817]\n",
      "[1047.43480853  500.76697719]\n",
      "-9.880000114440918 208.70999145507812\n",
      "traffic.speed_limit.30\n",
      "[666.21687644 554.77644368]\n",
      "[666.19617805 521.87910046]\n",
      "[667.80894394 554.69103204]\n",
      "[667.78847101 521.97199606]\n",
      "[633.32007623 554.7761632 ]\n",
      "[633.29702474 521.87874709]\n",
      "[635.09044533 554.69075288]\n",
      "[635.06764473 521.97164481]\n"
     ]
    },
    {
     "data": {
      "text/plain": "True"
     },
     "execution_count": 71,
     "metadata": {},
     "output_type": "execute_result"
    }
   ],
   "source": [
    "import cv2\n",
    "# world.tick()\n",
    "# image = image_queue.get()\n",
    "img = np.reshape(np.copy(image.raw_data), (image.height, image.width, 4))\n",
    "actor_list = world.get_actors()\n",
    "# Get camera matrix\n",
    "world_2_camera = np.array(camera.get_transform().get_inverse_matrix())\n",
    "for bb in bounding_box_set:\n",
    "    dist = bb.location.distance(vehicle.get_transform().location)\n",
    "    if dist < 30:\n",
    "        forward_vec = vehicle.get_transform().get_forward_vector()\n",
    "        ray = bb.location - vehicle.get_transform().location\n",
    "\n",
    "        if forward_vec.dot(ray) > 1:\n",
    "            lab = \"\"\n",
    "            location_x, location_y = bb.location.x, bb.location.y\n",
    "            print(location_x, location_y)\n",
    "            for i in actor_list:\n",
    "                tmp_x, tmp_y = i.get_location().x, i.get_location().y\n",
    "                if round(location_x) == round(tmp_x) and round(location_y) == round(tmp_y):\n",
    "                    lab = i.type_id\n",
    "                    print(lab)\n",
    "\n",
    "\n",
    "\n",
    "            p1 = get_image_point(bb.location, K,world_2_camera)\n",
    "            verts = [v for v in bb.get_world_vertices(carla.Transform())]\n",
    "            x_max = -10000\n",
    "            x_min = 10000\n",
    "            y_max = -10000\n",
    "            y_min = 10000\n",
    "            for vert in verts:\n",
    "                p = get_image_point(vert, K, world_2_camera)\n",
    "                print(p)\n",
    "                # Find the rightmost vertex\n",
    "                if p[0] > x_max:\n",
    "                    x_max = p[0]\n",
    "                # Find the leftmost vertex\n",
    "                if p[0] < x_min:\n",
    "                    x_min = p[0]\n",
    "                # Find the highest vertex\n",
    "                if p[1] > y_max:\n",
    "                    y_max = p[1]\n",
    "                # Find the lowest  vertex\n",
    "                if p[1] < y_min:\n",
    "                    y_min = p[1]\n",
    "            cv2.line(img, (int(x_min),int(y_min)), (int(x_max),int(y_min)), (0,0,255, 255), 1)\n",
    "            cv2.line(img, (int(x_min),int(y_max)), (int(x_max),int(y_max)), (0,0,255, 255), 1)\n",
    "            cv2.line(img, (int(x_min),int(y_min)), (int(x_min),int(y_max)), (0,0,255, 255), 1)\n",
    "            cv2.line(img, (int(x_max),int(y_min)), (int(x_max),int(y_max)), (0,0,255, 255), 1)\n",
    "cv2.imwrite(\"out/test.png\", img)"
   ],
   "metadata": {
    "collapsed": false,
    "pycharm": {
     "name": "#%%\n"
    }
   }
  },
  {
   "cell_type": "code",
   "execution_count": 5,
   "outputs": [],
   "source": [
    "from time import sleep\n",
    "sensor.listen(lambda image: image.save_to_disk('out/%06d.png' % image.frame))\n",
    "sleep(10)\n",
    "sensor.stop()"
   ],
   "metadata": {
    "collapsed": false,
    "pycharm": {
     "name": "#%%\n"
    }
   }
  },
  {
   "cell_type": "code",
   "execution_count": 5,
   "outputs": [],
   "source": [
    "sensor.stop()"
   ],
   "metadata": {
    "collapsed": false,
    "pycharm": {
     "name": "#%%\n"
    }
   }
  },
  {
   "cell_type": "code",
   "execution_count": 5,
   "metadata": {},
   "outputs": [],
   "source": [
    "# Create a transform to place the camera on top of the vehicle\n",
    "camera_init_trans = carla.Transform(carla.Location(z=1.5))\n",
    "\n",
    "# We create the camera through a blueprint that defines its properties\n",
    "camera_bp = world.get_blueprint_library().find('sensor.camera.rgb')\n",
    "\n",
    "# We spawn the camera and attach it to our ego vehicle\n",
    "camera = world.spawn_actor(camera_bp, camera_init_trans, attach_to=ego_vehicle)"
   ]
  },
  {
   "cell_type": "code",
   "execution_count": 6,
   "metadata": {},
   "outputs": [],
   "source": [
    "camera.listen(lambda image: image.save_to_disk('out/%06d.png' % image.frame))"
   ]
  }
 ],
 "metadata": {
  "kernelspec": {
   "display_name": "Python 3 (ipykernel)",
   "language": "python",
   "name": "python3"
  },
  "language_info": {
   "codemirror_mode": {
    "name": "ipython",
    "version": 3
   },
   "file_extension": ".py",
   "mimetype": "text/x-python",
   "name": "python",
   "nbconvert_exporter": "python",
   "pygments_lexer": "ipython3",
   "version": "3.7.1"
  }
 },
 "nbformat": 4,
 "nbformat_minor": 1
}