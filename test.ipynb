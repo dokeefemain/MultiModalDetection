{
 "cells": [
  {
   "cell_type": "code",
   "execution_count": 1,
   "metadata": {},
   "outputs": [],
   "source": [
    "import random\n",
    "\n",
    "import carla\n",
    "\n",
    "# Connect to the client and retrieve the world object\n",
    "client = carla.Client('localhost', 2000)\n",
    "# client.set_timeout(500)\n",
    "world = client.get_world()"
   ]
  },
  {
   "cell_type": "code",
   "execution_count": 2,
   "outputs": [],
   "source": [
    "spectator = world.get_spectator()\n",
    "\n",
    "# Get the location and rotation of the spectator through its transform\n",
    "transform = spectator.get_transform()\n",
    "\n",
    "\n",
    "# Set the spectator with an empty transform\n",
    "#spectator.set_transform(carla.Transform())\n",
    "spawn_points = world.get_map().get_spawn_points()\n"
   ],
   "metadata": {
    "collapsed": false,
    "pycharm": {
     "name": "#%%\n"
    }
   }
  },
  {
   "cell_type": "code",
   "execution_count": 3,
   "outputs": [],
   "source": [
    "spectator.set_transform(spawn_points[0])"
   ],
   "metadata": {
    "collapsed": false,
    "pycharm": {
     "name": "#%%\n"
    }
   }
  },
  {
   "cell_type": "code",
   "execution_count": null,
   "outputs": [],
   "source": [
    "#python config.py --map Town02\n",
    "#cd dl/cap/carla/windowsnoeditor/pythonapi/util"
   ],
   "metadata": {
    "collapsed": false,
    "pycharm": {
     "name": "#%%\n"
    }
   }
  },
  {
   "cell_type": "code",
   "execution_count": 2,
   "metadata": {},
   "outputs": [],
   "source": [
    "spawn_points = world.get_map().get_spawn_points()\n",
    "spawn_0 = spawn_points[0]\n",
    "spawn_points = spawn_points[1:]\n",
    "vehicle_blueprints = world.get_blueprint_library().filter('*vehicle*')\n",
    "my_vehicle = world.spawn_actor(random.choice(vehicle_blueprints), spawn_0)"
   ]
  },
  {
   "cell_type": "code",
   "execution_count": null,
   "outputs": [],
   "source": [
    "for i in range(0,50):\n",
    "    world.try_spawn_actor(random.choice(vehicle_blueprints, random.choice(spawn_points)))\n",
    "for vehicle in world.get_actors().filter('vehicle'):\n",
    "    vehicle.set_autopilot(True)"
   ],
   "metadata": {
    "collapsed": false,
    "pycharm": {
     "name": "#%%\n"
    }
   }
  },
  {
   "cell_type": "code",
   "execution_count": 3,
   "outputs": [],
   "source": [
    "blueprint = world.get_blueprint_library().find('sensor.camera.rgb')\n",
    "# Modify the attributes of the blueprint to set image resolution and field of view.\n",
    "blueprint.set_attribute('image_size_x', '1920')\n",
    "blueprint.set_attribute('image_size_y', '1080')\n",
    "blueprint.set_attribute('fov', '110')\n",
    "#blueprint.set_attribute('sensor_tick', '1.5')\n",
    "blueprint.set_attribute('blur_amount', '0')\n",
    "#motion_blur_max_distortion\n",
    "blueprint.set_attribute('motion_blur_max_distortion', '0')\n",
    "# Set the time in seconds between sensor captures\n",
    "blueprint.set_attribute('sensor_tick', '3.0')\n",
    "blueprint.set_attribute('shutter_speed', '100.0')\n",
    "transform = carla.Transform(carla.Location(x=0.8, z=1.7))\n",
    "sensor = world.spawn_actor(blueprint, transform, attach_to=my_vehicle)\n",
    "#sensor.listen(lambda image: image.save_to_disk('out/%06d.png' % image.frame))\n"
   ],
   "metadata": {
    "collapsed": false,
    "pycharm": {
     "name": "#%%\n"
    }
   }
  },
  {
   "cell_type": "code",
   "execution_count": 6,
   "outputs": [],
   "source": [
    "spectator = world.get_spectator()\n",
    "spectator.set_transform(spawn_0)"
   ],
   "metadata": {
    "collapsed": false,
    "pycharm": {
     "name": "#%%\n"
    }
   }
  },
  {
   "cell_type": "code",
   "execution_count": 4,
   "outputs": [],
   "source": [
    "my_vehicle.set_autopilot(True)"
   ],
   "metadata": {
    "collapsed": false,
    "pycharm": {
     "name": "#%%\n"
    }
   }
  },
  {
   "cell_type": "markdown",
   "source": [
    "## Cars"
   ],
   "metadata": {
    "collapsed": false,
    "pycharm": {
     "name": "#%% md\n"
    }
   }
  },
  {
   "cell_type": "code",
   "execution_count": 1,
   "outputs": [],
   "source": [
    "import carla\n",
    "import random\n",
    "import queue\n",
    "import numpy as np\n",
    "import cv2\n",
    "\n",
    "client = carla.Client('localhost', 2000)\n",
    "world  = client.get_world()\n",
    "bp_lib = world.get_blueprint_library()"
   ],
   "metadata": {
    "collapsed": false,
    "pycharm": {
     "name": "#%%\n"
    }
   }
  },
  {
   "cell_type": "code",
   "execution_count": 2,
   "outputs": [],
   "source": [
    "def build_projection_matrix(w, h, fov):\n",
    "    focal = w / (2.0 * np.tan(fov * np.pi / 360.0))\n",
    "    K = np.identity(3)\n",
    "    K[0, 0] = K[1, 1] = focal\n",
    "    K[0, 2] = w / 2.0\n",
    "    K[1, 2] = h / 2.0\n",
    "    return K\n",
    "\n",
    "def get_image_point(loc, K, w2c):\n",
    "        # Calculate 2D projection of 3D coordinate\n",
    "\n",
    "        # Format the input coordinate (loc is a carla.Position object)\n",
    "        point = np.array([loc.x, loc.y, loc.z, 1])\n",
    "        # transform to camera coordinates\n",
    "        point_camera = np.dot(w2c, point)\n",
    "\n",
    "        # New we must change from UE4's coordinate system to an \"standard\"\n",
    "        # (x, y ,z) -> (y, -z, x)\n",
    "        # and we remove the fourth componebonent also\n",
    "        point_camera = [point_camera[1], -point_camera[2], point_camera[0]]\n",
    "\n",
    "        # now project 3D->2D using the camera matrix\n",
    "        point_img = np.dot(K, point_camera)\n",
    "        # normalize\n",
    "        point_img[0] /= point_img[2]\n",
    "        point_img[1] /= point_img[2]\n",
    "\n",
    "        return point_img[0:2]"
   ],
   "metadata": {
    "collapsed": false,
    "pycharm": {
     "name": "#%%\n"
    }
   }
  },
  {
   "cell_type": "code",
   "execution_count": 3,
   "outputs": [],
   "source": [
    "# spawn vehicle\n",
    "spawn_points = world.get_map().get_spawn_points()\n",
    "vehicle_bp =bp_lib.find('vehicle.lincoln.mkz_2020')\n",
    "vehicle = world.try_spawn_actor(vehicle_bp, random.choice(spawn_points))\n",
    "\n",
    "for i in range(50):\n",
    "    vehicle_bp = random.choice(bp_lib.filter('vehicle'))\n",
    "    npc = world.try_spawn_actor(vehicle_bp, random.choice(spawn_points))\n",
    "    if npc:\n",
    "        npc.set_autopilot(True)\n",
    "\n",
    "# spawn camera\n",
    "camera_bp = bp_lib.find('sensor.camera.rgb')\n",
    "# camera_bp.set_attribute('image_size_x', '1920')\n",
    "# camera_bp.set_attribute('image_size_y', '1080')\n",
    "# camera_bp.set_attribute('fov', '110')\n",
    "camera_init_trans = carla.Transform(carla.Location(z=2))\n",
    "camera = world.spawn_actor(camera_bp, camera_init_trans, attach_to=vehicle)\n",
    "vehicle.set_autopilot(True)\n",
    "\n",
    "# Set up the simulator in synchronous mode\n",
    "settings = world.get_settings()\n",
    "settings.synchronous_mode = True # Enables synchronous mode\n",
    "settings.fixed_delta_seconds = 5\n",
    "world.apply_settings(settings)\n",
    "\n",
    "# Create a queue to store and retrieve the sensor data\n",
    "image_queue = queue.Queue()\n",
    "camera.listen(image_queue.put)"
   ],
   "metadata": {
    "collapsed": false,
    "pycharm": {
     "name": "#%%\n"
    }
   }
  },
  {
   "cell_type": "code",
   "execution_count": 4,
   "outputs": [],
   "source": [
    "world_2_camera = np.array(camera.get_transform().get_inverse_matrix())\n",
    "\n",
    "# Get the attributes from the camera\n",
    "image_w = camera_bp.get_attribute(\"image_size_x\").as_int()\n",
    "image_h = camera_bp.get_attribute(\"image_size_y\").as_int()\n",
    "fov = camera_bp.get_attribute(\"fov\").as_float()\n",
    "\n",
    "# Calculate the camera projection matrix to project from 3D -> 2D\n",
    "K = build_projection_matrix(image_w, image_h, fov)"
   ],
   "metadata": {
    "collapsed": false,
    "pycharm": {
     "name": "#%%\n"
    }
   }
  },
  {
   "cell_type": "code",
   "execution_count": null,
   "outputs": [],
   "source": [],
   "metadata": {
    "collapsed": false,
    "pycharm": {
     "name": "#%%\n"
    }
   }
  },
  {
   "cell_type": "code",
   "execution_count": 5,
   "outputs": [
    {
     "name": "stdout",
     "output_type": "stream",
     "text": [
      "[<carla.libcarla.Vehicle object at 0x000001A47121C7B0>, <carla.libcarla.Vehicle object at 0x000001A47121CDB0>, <carla.libcarla.Vehicle object at 0x000001A47121CE70>, <carla.libcarla.Vehicle object at 0x000001A47121CED0>, <carla.libcarla.Vehicle object at 0x000001A47121CB70>, <carla.libcarla.Vehicle object at 0x000001A47121CC30>, <carla.libcarla.Vehicle object at 0x000001A47121CBD0>, <carla.libcarla.Vehicle object at 0x000001A47121C390>, <carla.libcarla.Vehicle object at 0x000001A47121CAB0>, <carla.libcarla.Vehicle object at 0x000001A47121C990>, <carla.libcarla.Vehicle object at 0x000001A47121C930>, <carla.libcarla.Vehicle object at 0x000001A47121C5D0>, <carla.libcarla.Vehicle object at 0x000001A47121C270>, <carla.libcarla.Vehicle object at 0x000001A47121C690>, <carla.libcarla.Vehicle object at 0x000001A47121C8D0>, <carla.libcarla.Vehicle object at 0x000001A47121C750>, <carla.libcarla.Vehicle object at 0x000001A47121C510>, <carla.libcarla.Vehicle object at 0x000001A47121C6F0>, <carla.libcarla.Vehicle object at 0x000001A47121C570>, <carla.libcarla.Vehicle object at 0x000001A47121C4B0>, <carla.libcarla.Vehicle object at 0x000001A47121C630>, <carla.libcarla.Vehicle object at 0x000001A47121C3F0>, <carla.libcarla.Vehicle object at 0x000001A47121C450>, <carla.libcarla.Vehicle object at 0x000001A4712162D0>, <carla.libcarla.Vehicle object at 0x000001A471216330>, <carla.libcarla.Vehicle object at 0x000001A471216390>, <carla.libcarla.Vehicle object at 0x000001A4712163F0>, <carla.libcarla.Vehicle object at 0x000001A471216450>, <carla.libcarla.Vehicle object at 0x000001A4712164B0>, <carla.libcarla.Vehicle object at 0x000001A471216510>, <carla.libcarla.Vehicle object at 0x000001A471216570>, <carla.libcarla.Vehicle object at 0x000001A4712165D0>, <carla.libcarla.Vehicle object at 0x000001A471216630>, <carla.libcarla.Vehicle object at 0x000001A471216690>, <carla.libcarla.Vehicle object at 0x000001A4712166F0>, <carla.libcarla.TrafficLight object at 0x000001A47121CD50>, <carla.libcarla.TrafficLight object at 0x000001A4712167B0>, <carla.libcarla.TrafficLight object at 0x000001A471216810>, <carla.libcarla.TrafficLight object at 0x000001A471216870>, <carla.libcarla.TrafficLight object at 0x000001A4712168D0>, <carla.libcarla.TrafficLight object at 0x000001A471216930>, <carla.libcarla.TrafficLight object at 0x000001A471216990>, <carla.libcarla.TrafficLight object at 0x000001A4712169F0>, <carla.libcarla.TrafficLight object at 0x000001A471216A50>, <carla.libcarla.TrafficLight object at 0x000001A471216AB0>, <carla.libcarla.TrafficLight object at 0x000001A471216B10>, <carla.libcarla.TrafficLight object at 0x000001A471216B70>, <carla.libcarla.TrafficLight object at 0x000001A471216BD0>, <carla.libcarla.TrafficLight object at 0x000001A471216C30>, <carla.libcarla.TrafficLight object at 0x000001A471216C90>, <carla.libcarla.TrafficLight object at 0x000001A471216CF0>, <carla.libcarla.TrafficLight object at 0x000001A471216D50>, <carla.libcarla.TrafficLight object at 0x000001A471216DB0>, <carla.libcarla.TrafficLight object at 0x000001A471216E10>, <carla.libcarla.TrafficLight object at 0x000001A471216E70>, <carla.libcarla.TrafficLight object at 0x000001A471216ED0>, <carla.libcarla.TrafficLight object at 0x000001A471216F30>, <carla.libcarla.TrafficLight object at 0x000001A471216F90>, <carla.libcarla.TrafficLight object at 0x000001A47123F030>, <carla.libcarla.TrafficSign object at 0x000001A47123F090>, <carla.libcarla.TrafficSign object at 0x000001A47123F0F0>, <carla.libcarla.TrafficSign object at 0x000001A47123F150>, <carla.libcarla.TrafficSign object at 0x000001A47123F1B0>, <carla.libcarla.TrafficSign object at 0x000001A47123F210>, <carla.libcarla.TrafficSign object at 0x000001A47123F270>, <carla.libcarla.TrafficSign object at 0x000001A47123F2D0>, <carla.libcarla.TrafficSign object at 0x000001A47123F330>, <carla.libcarla.TrafficSign object at 0x000001A47123F390>, <carla.libcarla.TrafficSign object at 0x000001A47123F3F0>, <carla.libcarla.TrafficSign object at 0x000001A47123F450>, <carla.libcarla.TrafficSign object at 0x000001A47123F4B0>, <carla.libcarla.TrafficSign object at 0x000001A47123F510>, <carla.libcarla.TrafficSign object at 0x000001A47123F570>, <carla.libcarla.TrafficSign object at 0x000001A47123F5D0>, <carla.libcarla.TrafficSign object at 0x000001A47123F630>, <carla.libcarla.TrafficSign object at 0x000001A47123F690>, <carla.libcarla.TrafficSign object at 0x000001A47123F6F0>, <carla.libcarla.TrafficSign object at 0x000001A47123F750>, <carla.libcarla.TrafficSign object at 0x000001A47123F7B0>, <carla.libcarla.TrafficSign object at 0x000001A47123F810>]\n",
      "48.7609977722168\n",
      "test\n",
      "[ 10.90950864 326.13992851]\n",
      "[ 10.35878477 296.22347507]\n",
      "[ 39.13385733 324.34319852]\n",
      "[ 38.61571926 296.63341145]\n",
      "[-53.34176187 327.61959595]\n",
      "[-53.874177   297.62578274]\n",
      "[-20.29942753 325.70917976]\n",
      "[-20.80190245 297.9330371 ]\n",
      "239.4952392578125\n",
      "228.84823608398438\n",
      "140.76742553710938\n",
      "151.26515197753906\n",
      "129.5374755859375\n",
      "149.1845703125\n",
      "162.25155639648438\n",
      "186.38986206054688\n",
      "154.6316680908203\n",
      "52.223602294921875\n",
      "125.61875915527344\n",
      "67.979736328125\n",
      "97.85163879394531\n",
      "158.5767364501953\n",
      "148.9196319580078\n",
      "156.58352661132812\n",
      "160.33058166503906\n",
      "184.9977264404297\n",
      "129.77560424804688\n",
      "76.77328491210938\n",
      "140.1194610595703\n",
      "167.67160034179688\n",
      "153.74563598632812\n",
      "174.05079650878906\n",
      "81.7760009765625\n",
      "103.43632507324219\n",
      "169.34275817871094\n",
      "101.70487976074219\n",
      "82.35546875\n",
      "199.98452758789062\n",
      "32.57927703857422\n",
      "test\n",
      "27.381567001342773\n",
      "test\n",
      "193.54725646972656\n",
      "172.9849395751953\n",
      "153.8566436767578\n",
      "156.5011749267578\n",
      "134.21438598632812\n",
      "153.25364685058594\n",
      "156.08644104003906\n",
      "53.802974700927734\n",
      "72.88096618652344\n",
      "71.43904876708984\n",
      "195.51333618164062\n",
      "190.50425720214844\n",
      "208.5867462158203\n",
      "206.5199432373047\n",
      "206.0392303466797\n",
      "224.42681884765625\n",
      "31.738718032836914\n",
      "test\n",
      "[125.93843828 327.81063719]\n",
      "[125.96416315 302.43231408]\n",
      "[113.10624241 327.8520108 ]\n",
      "[113.13583316 302.46085821]\n",
      "[107.80646838 329.56517618]\n",
      "[107.83974496 302.4678966 ]\n",
      "[ 94.09486211 329.6103001 ]\n",
      "[ 94.13255249 302.49839371]\n",
      "21.346452713012695\n",
      "test\n",
      "[364.60665853 357.10173255]\n",
      "[364.50670529 301.8174509 ]\n",
      "[362.45202128 361.1985089 ]\n",
      "[362.34616687 301.81082282]\n",
      "[419.83972871 356.85766388]\n",
      "[419.70397834 301.69481672]\n",
      "[421.78011389 360.9267085 ]\n",
      "[421.63295949 301.67912971]\n",
      "110.36221313476562\n",
      "100.37918090820312\n",
      "84.56439971923828\n",
      "157.02572631835938\n",
      "140.7903594970703\n",
      "157.76190185546875\n",
      "46.31227493286133\n",
      "test\n",
      "[369.98701006 317.12359506]\n",
      "[369.95853634 301.91711179]\n",
      "[370.42809029 316.83978915]\n",
      "[370.40006969 301.9169197 ]\n",
      "[354.75524758 317.16671103]\n",
      "[354.72949756 301.95101447]\n",
      "[355.48084395 316.88193185]\n",
      "[355.45544626 301.95018969]\n",
      "164.0968475341797\n",
      "54.097408294677734\n",
      "157.70526123046875\n",
      "76.0257568359375\n",
      "164.35328674316406\n",
      "215.93902587890625\n",
      "204.23565673828125\n",
      "217.960205078125\n",
      "182.26095581054688\n",
      "40.399776458740234\n",
      "test\n",
      "[206.82336336 321.82579301]\n",
      "[206.82430603 305.34250471]\n",
      "[214.42960408 321.80298849]\n",
      "[214.42906422 305.32465536]\n",
      "[217.69710508 320.66637089]\n",
      "[217.69599662 305.14256045]\n",
      "[224.85764821 320.64522144]\n",
      "[224.85522587 305.12580616]\n",
      "174.05548095703125\n",
      "61.782596588134766\n",
      "147.88832092285156\n",
      "149.41757202148438\n",
      "228.393798828125\n",
      "232.55343627929688\n",
      "227.51377868652344\n",
      "52.1168098449707\n",
      "204.7139892578125\n",
      "22.447681427001953\n",
      "test\n",
      "165.08114624023438\n"
     ]
    },
    {
     "data": {
      "text/plain": "True"
     },
     "execution_count": 5,
     "metadata": {},
     "output_type": "execute_result"
    }
   ],
   "source": [
    "world.tick()\n",
    "image = image_queue.get()\n",
    "img = np.reshape(np.copy(image.raw_data), (image.height, image.width, 4))\n",
    "#actor_list = world.get_actors()\n",
    "# Get camera matrix\n",
    "world_2_camera = np.array(camera.get_transform().get_inverse_matrix())\n",
    "labs = []\n",
    "x_mins=[]\n",
    "y_mins=[]\n",
    "x_maxs=[]\n",
    "y_maxs=[]\n",
    "files = []\n",
    "\n",
    "#actor_list = world.get_actors()\n",
    "actor_list = []\n",
    "for i in world.get_actors().filter('*vehicle*'):\n",
    "    actor_list.append(i)\n",
    "for i in world.get_actors().filter('*traffic*'):\n",
    "    actor_list.append(i)\n",
    "print(actor_list)\n",
    "\n",
    "for curr in actor_list:\n",
    "    if curr.id != vehicle.id:\n",
    "        bb = curr.bounding_box\n",
    "        dist = curr.get_transform().location.distance(vehicle.get_transform().location)\n",
    "        print(dist)\n",
    "        if dist < 50:\n",
    "            print(\"test\")\n",
    "            forward_vec = vehicle.get_transform().get_forward_vector()\n",
    "            ray = curr.get_transform().location - vehicle.get_transform().location\n",
    "\n",
    "            if forward_vec.dot(ray) > 1:\n",
    "                lab = \"\"\n",
    "                lab = curr.type_id\n",
    "                p1 = get_image_point(bb.location, K,world_2_camera)\n",
    "                verts = [v for v in bb.get_world_vertices(curr.get_transform())]\n",
    "                x_max = -10000\n",
    "                x_min = 10000\n",
    "                y_max = -10000\n",
    "                y_min = 10000\n",
    "                for vert in verts:\n",
    "                    p = get_image_point(vert, K, world_2_camera)\n",
    "                    print(p)\n",
    "                    # Find the rightmost vertex\n",
    "                    if p[0] > x_max:\n",
    "                        x_max = p[0]\n",
    "                    # Find the leftmost vertex\n",
    "                    if p[0] < x_min:\n",
    "                        x_min = p[0]\n",
    "                    # Find the highest vertex\n",
    "                    if p[1] > y_max:\n",
    "                        y_max = p[1]\n",
    "                    # Find the lowest  vertex\n",
    "                    if p[1] < y_min:\n",
    "                        y_min = p[1]\n",
    "                labs.append(lab)\n",
    "                x_mins.append(x_min)\n",
    "                x_maxs.append(x_max)\n",
    "                y_mins.append(y_min)\n",
    "                y_maxs.append(y_max)\n",
    "\n",
    "\n",
    "\n",
    "\n",
    "                cv2.line(img, (int(x_min),int(y_min)), (int(x_max),int(y_min)), (0,0,255, 255), 1)\n",
    "                cv2.line(img, (int(x_min),int(y_max)), (int(x_max),int(y_max)), (0,0,255, 255), 1)\n",
    "                cv2.line(img, (int(x_min),int(y_min)), (int(x_min),int(y_max)), (0,0,255, 255), 1)\n",
    "                cv2.line(img, (int(x_max),int(y_min)), (int(x_max),int(y_max)), (0,0,255, 255), 1)\n",
    "cv2.imwrite(\"out/test.png\", img)\n"
   ],
   "metadata": {
    "collapsed": false,
    "pycharm": {
     "name": "#%%\n"
    }
   }
  },
  {
   "cell_type": "code",
   "execution_count": 5,
   "outputs": [
    {
     "data": {
      "text/plain": "True"
     },
     "execution_count": 5,
     "metadata": {},
     "output_type": "execute_result"
    }
   ],
   "source": [
    "world.tick()\n",
    "image = image_queue.get()\n",
    "\n",
    "img = np.reshape(np.copy(image.raw_data), (image.height, image.width, 4))\n",
    "\n",
    "# # Get the camera matrix\n",
    "world_2_camera = np.array(camera.get_transform().get_inverse_matrix())\n",
    "\n",
    "for npc in world.get_actors().filter('*vehicle*'):\n",
    "\n",
    "    # Filter out the ego vehicle\n",
    "    if npc.id != vehicle.id:\n",
    "\n",
    "        bb = npc.bounding_box\n",
    "        dist = npc.get_transform().location.distance(vehicle.get_transform().location)\n",
    "\n",
    "        # Filter for the vehicles within 50m\n",
    "        if dist < 50:\n",
    "\n",
    "            # Calculate the dot product between the forward vector\n",
    "            # of the vehicle and the vector between the vehicle\n",
    "            # and the other vehicle. We threshold this dot product\n",
    "            # to limit to drawing bounding boxes IN FRONT OF THE CAMERA\n",
    "            forward_vec = vehicle.get_transform().get_forward_vector()\n",
    "            ray = npc.get_transform().location - vehicle.get_transform().location\n",
    "\n",
    "            if forward_vec.dot(ray) > 1:\n",
    "                p1 = get_image_point(bb.location, K, world_2_camera)\n",
    "                verts = [v for v in bb.get_world_vertices(npc.get_transform())]\n",
    "                x_max = -10000\n",
    "                x_min = 10000\n",
    "                y_max = -10000\n",
    "                y_min = 10000\n",
    "\n",
    "                for vert in verts:\n",
    "                    p = get_image_point(vert, K, world_2_camera)\n",
    "                    # Find the rightmost vertex\n",
    "                    if p[0] > x_max:\n",
    "                        x_max = p[0]\n",
    "                    # Find the leftmost vertex\n",
    "                    if p[0] < x_min:\n",
    "                        x_min = p[0]\n",
    "                    # Find the highest vertex\n",
    "                    if p[1] > y_max:\n",
    "                        y_max = p[1]\n",
    "                    # Find the lowest  vertex\n",
    "                    if p[1] < y_min:\n",
    "                        y_min = p[1]\n",
    "\n",
    "                cv2.line(img, (int(x_min),int(y_min)), (int(x_max),int(y_min)), (0,0,255, 255), 1)\n",
    "                cv2.line(img, (int(x_min),int(y_max)), (int(x_max),int(y_max)), (0,0,255, 255), 1)\n",
    "                cv2.line(img, (int(x_min),int(y_min)), (int(x_min),int(y_max)), (0,0,255, 255), 1)\n",
    "                cv2.line(img, (int(x_max),int(y_min)), (int(x_max),int(y_max)), (0,0,255, 255), 1)\n",
    "\n",
    "cv2.imwrite(\"out/test.png\",img)"
   ],
   "metadata": {
    "collapsed": false,
    "pycharm": {
     "name": "#%%\n"
    }
   }
  },
  {
   "cell_type": "markdown",
   "source": [
    "## Testing 3D"
   ],
   "metadata": {
    "collapsed": false,
    "pycharm": {
     "name": "#%% md\n"
    }
   }
  },
  {
   "cell_type": "code",
   "execution_count": 5,
   "outputs": [
    {
     "data": {
      "text/plain": "True"
     },
     "execution_count": 5,
     "metadata": {},
     "output_type": "execute_result"
    }
   ],
   "source": [
    "world.tick()\n",
    "edges = [[0,1], [1,3], [3,2], [2,0], [0,4], [4,5], [5,1], [5,7], [7,6], [6,4], [6,2], [7,3]]\n",
    "image = image_queue.get()\n",
    "\n",
    "img = np.reshape(np.copy(image.raw_data), (image.height, image.width, 4))\n",
    "\n",
    "# Get the camera matrix\n",
    "world_2_camera = np.array(camera.get_transform().get_inverse_matrix())\n",
    "\n",
    "\n",
    "for npc in world.get_actors().filter('*vehicle*'):\n",
    "\n",
    "    # Filter out the ego vehicle\n",
    "    if npc.id != vehicle.id:\n",
    "\n",
    "        bb = npc.bounding_box\n",
    "        dist = npc.get_transform().location.distance(vehicle.get_transform().location)\n",
    "\n",
    "        # Filter for the vehicles within 50m\n",
    "        if dist < 50:\n",
    "\n",
    "            # Calculate the dot product between the forward vector\n",
    "            # of the vehicle and the vector between the vehicle\n",
    "            # and the other vehicle. We threshold this dot product\n",
    "            # to limit to drawing bounding boxes IN FRONT OF THE CAMERA\n",
    "            forward_vec = vehicle.get_transform().get_forward_vector()\n",
    "            ray = npc.get_transform().location - vehicle.get_transform().location\n",
    "\n",
    "            if forward_vec.dot(ray) > 1:\n",
    "                p1 = get_image_point(bb.location, K, world_2_camera)\n",
    "                verts = [v for v in bb.get_world_vertices(npc.get_transform())]\n",
    "                for edge in edges:\n",
    "                    p1 = get_image_point(verts[edge[0]], K, world_2_camera)\n",
    "                    p2 = get_image_point(verts[edge[1]],  K, world_2_camera)\n",
    "                    cv2.line(img, (int(p1[0]),int(p1[1])), (int(p2[0]),int(p2[1])), (255,0,0, 255), 1)\n",
    "cv2.imwrite(\"out/test.png\",img)"
   ],
   "metadata": {
    "collapsed": false,
    "pycharm": {
     "name": "#%%\n"
    }
   }
  },
  {
   "cell_type": "markdown",
   "source": [
    "## BB Stuff\n",
    "Realistically we can only get 3 classes TrafficSigns, Pedestrians, and Vehicles"
   ],
   "metadata": {
    "collapsed": false,
    "pycharm": {
     "name": "#%% md\n"
    }
   }
  },
  {
   "cell_type": "code",
   "execution_count": 4,
   "outputs": [],
   "source": [
    "import queue\n",
    "world  = client.get_world()\n",
    "bp_lib = world.get_blueprint_library()\n",
    "\n",
    "# spawn vehicle\n",
    "vehicle_bp =bp_lib.find('vehicle.lincoln.mkz_2020')\n",
    "spawn_points = world.get_map().get_spawn_points()\n",
    "vehicle = world.try_spawn_actor(vehicle_bp, spawn_points[0])\n",
    "\n",
    "# spawn camera\n",
    "camera_bp = bp_lib.find('sensor.camera.rgb')\n",
    "#camera_bp.set_attribute('sensor_tick', '3.0')\n",
    "camera_bp.set_attribute('image_size_x', '1920')\n",
    "camera_bp.set_attribute('image_size_y', '1080')\n",
    "camera_bp.set_attribute('fov', '110')\n",
    "camera_init_trans = carla.Transform(carla.Location(z=2))\n",
    "camera = world.spawn_actor(camera_bp, camera_init_trans, attach_to=vehicle)\n",
    "vehicle.set_autopilot(True)\n",
    "\n",
    "# Set up the simulator in synchronous mode\n",
    "settings = world.get_settings()\n",
    "settings.synchronous_mode = True # Enables synchronous mode\n",
    "settings.fixed_delta_seconds = 5\n",
    "world.apply_settings(settings)\n",
    "\n",
    "# Get the map spawn points\n",
    "spawn_points = world.get_map().get_spawn_points()\n",
    "\n",
    "# Create a queue to store and retrieve the sensor data\n",
    "image_queue = queue.Queue()\n",
    "camera.listen(image_queue.put)"
   ],
   "metadata": {
    "collapsed": false,
    "pycharm": {
     "name": "#%%\n"
    }
   }
  },
  {
   "cell_type": "code",
   "execution_count": 6,
   "outputs": [],
   "source": [
    "import numpy as np\n",
    "def build_projection_matrix(w, h, fov):\n",
    "    focal = w / (2.0 * np.tan(fov * np.pi / 360.0))\n",
    "    K = np.identity(3)\n",
    "    K[0, 0] = K[1, 1] = focal\n",
    "    K[0, 2] = w / 2.0\n",
    "    K[1, 2] = h / 2.0\n",
    "    return K\n",
    "\n",
    "def get_image_point(loc, K, w2c):\n",
    "        # Calculate 2D projection of 3D coordinate\n",
    "\n",
    "        # Format the input coordinate (loc is a carla.Position object)\n",
    "        point = np.array([loc.x, loc.y, loc.z, 1])\n",
    "        # transform to camera coordinates\n",
    "        point_camera = np.dot(w2c, point)\n",
    "\n",
    "        # New we must change from UE4's coordinate system to an \"standard\"\n",
    "        # (x, y ,z) -> (y, -z, x)\n",
    "        # and we remove the fourth componebonent also\n",
    "        point_camera = [point_camera[1], -point_camera[2], point_camera[0]]\n",
    "\n",
    "        # now project 3D->2D using the camera matrix\n",
    "        point_img = np.dot(K, point_camera)\n",
    "        # normalize\n",
    "        point_img[0] /= point_img[2]\n",
    "        point_img[1] /= point_img[2]\n",
    "\n",
    "        return point_img[0:2]"
   ],
   "metadata": {
    "collapsed": false,
    "pycharm": {
     "name": "#%%\n"
    }
   }
  },
  {
   "cell_type": "code",
   "execution_count": 7,
   "outputs": [],
   "source": [
    "world_2_camera = np.array(camera.get_transform().get_inverse_matrix())\n",
    "\n",
    "# Get the attributes from the camera\n",
    "image_w = camera_bp.get_attribute(\"image_size_x\").as_int()\n",
    "image_h = camera_bp.get_attribute(\"image_size_y\").as_int()\n",
    "fov = camera_bp.get_attribute(\"fov\").as_float()\n",
    "\n",
    "# Calculate the camera projection matrix to project from 3D -> 2D\n",
    "K = build_projection_matrix(image_w, image_h, fov)"
   ],
   "metadata": {
    "collapsed": false,
    "pycharm": {
     "name": "#%%\n"
    }
   }
  },
  {
   "cell_type": "code",
   "execution_count": 8,
   "outputs": [],
   "source": [
    "bounding_box_set = world.get_level_bbs(carla.CityObjectLabel.TrafficLight)\n",
    "bounding_box_set.extend(world.get_level_bbs(carla.CityObjectLabel.TrafficSigns))\n",
    "\n",
    "# Remember the edge pairs\n",
    "edges = [[0,1], [1,3], [3,2], [2,0], [0,4], [4,5], [5,1], [5,7], [7,6], [6,4], [6,2], [7,3]]"
   ],
   "metadata": {
    "collapsed": false,
    "pycharm": {
     "name": "#%%\n"
    }
   }
  },
  {
   "cell_type": "markdown",
   "source": [],
   "metadata": {
    "collapsed": false
   }
  },
  {
   "cell_type": "code",
   "execution_count": 8,
   "outputs": [
    {
     "name": "stdout",
     "output_type": "stream",
     "text": [
      "Location(x=108.279999, y=307.859985, z=4.310000) spectator\n",
      "Location(x=147.110016, y=234.222107, z=0.220000) traffic.traffic_light\n",
      "Location(x=129.550003, y=226.559998, z=0.220000) traffic.traffic_light\n",
      "Location(x=122.480003, y=243.816986, z=0.220000) traffic.traffic_light\n",
      "Location(x=121.369987, y=194.089951, z=0.220000) traffic.traffic_light\n",
      "Location(x=138.929977, y=201.819962, z=0.220000) traffic.traffic_light\n",
      "Location(x=146.000000, y=184.829971, z=0.220000) traffic.traffic_light\n",
      "Location(x=30.959990, y=194.289963, z=0.220000) traffic.traffic_light\n",
      "Location(x=48.519978, y=203.279953, z=0.220000) traffic.traffic_light\n",
      "Location(x=58.050007, y=185.029984, z=0.220000) traffic.traffic_light\n",
      "Location(x=186.950058, y=176.769974, z=0.220000) traffic.traffic_light\n",
      "Location(x=179.220016, y=194.329910, z=0.220000) traffic.traffic_light\n",
      "Location(x=196.210022, y=201.400040, z=0.220000) traffic.traffic_light\n",
      "Location(x=186.950058, y=226.179977, z=0.220000) traffic.traffic_light\n",
      "Location(x=179.220016, y=243.739914, z=0.220000) traffic.traffic_light\n",
      "Location(x=196.210022, y=250.810028, z=0.220000) traffic.traffic_light\n",
      "Location(x=6.910000, y=184.959991, z=0.220000) traffic.traffic_light\n",
      "Location(x=-10.080000, y=177.889999, z=0.220000) traffic.traffic_light\n",
      "Location(x=48.529999, y=251.759995, z=0.220000) traffic.traffic_light\n",
      "Location(x=56.259998, y=234.199997, z=0.220000) traffic.traffic_light\n",
      "Location(x=39.270000, y=227.129990, z=0.220000) traffic.traffic_light\n",
      "Location(x=56.690014, y=299.989319, z=0.220000) traffic.traffic_light\n",
      "Location(x=39.129993, y=289.529999, z=0.220000) traffic.traffic_light\n",
      "Location(x=32.060009, y=309.410004, z=0.220000) traffic.traffic_light\n",
      "Location(x=-0.820000, y=202.519989, z=0.220000) traffic.traffic_light\n",
      "Location(x=147.550003, y=103.049995, z=0.320000) traffic.speed_limit.90\n",
      "Location(x=22.959999, y=112.009995, z=0.320000) traffic.speed_limit.90\n",
      "Location(x=143.750000, y=112.139999, z=0.360000) traffic.speed_limit.60\n",
      "Location(x=46.230000, y=102.939995, z=0.360000) traffic.speed_limit.60\n",
      "Location(x=53.270000, y=309.389984, z=0.360000) traffic.speed_limit.60\n",
      "Location(x=153.809998, y=300.220001, z=0.360000) traffic.speed_limit.60\n",
      "Location(x=196.319992, y=169.239990, z=0.360000) traffic.speed_limit.60\n",
      "Location(x=187.459991, y=254.089996, z=0.360000) traffic.speed_limit.60\n",
      "Location(x=166.660004, y=103.059998, z=0.360000) traffic.speed_limit.60\n",
      "Location(x=7.980000, y=194.000000, z=0.360000) traffic.speed_limit.30\n",
      "Location(x=160.669998, y=111.930000, z=0.360000) traffic.speed_limit.30\n",
      "Location(x=23.219999, y=103.110001, z=0.360000) traffic.speed_limit.30\n",
      "Location(x=48.548096, y=293.540009, z=0.360020) traffic.speed_limit.30\n",
      "Location(x=34.399998, y=300.109985, z=0.360000) traffic.speed_limit.30\n",
      "Location(x=196.099991, y=260.130005, z=0.360000) traffic.speed_limit.30\n",
      "Location(x=187.149994, y=283.899994, z=0.360000) traffic.speed_limit.30\n",
      "Location(x=161.440002, y=309.049988, z=0.360000) traffic.speed_limit.30\n",
      "Location(x=-9.880000, y=208.759995, z=0.360000) traffic.speed_limit.30\n",
      "Location(x=196.050003, y=135.179993, z=0.360000) traffic.speed_limit.30\n",
      "Location(x=-1.000000, y=135.220001, z=0.360000) traffic.speed_limit.30\n",
      "Location(x=74.209999, y=300.119995, z=0.360000) traffic.speed_limit.30\n",
      "Location(x=7.227635, y=293.228394, z=0.241279) static.prop.mesh\n",
      "Location(x=5.982678, y=292.057709, z=0.240000) static.prop.mesh\n",
      "Location(x=4.646912, y=293.202484, z=0.240000) static.prop.mesh\n",
      "Location(x=5.809961, y=294.561646, z=0.240000) static.prop.mesh\n",
      "Location(x=6.648972, y=288.049103, z=0.240000) static.prop.mesh\n",
      "Location(x=4.942763, y=287.952484, z=0.240000) static.prop.mesh\n",
      "Location(x=4.655368, y=289.688080, z=0.240000) static.prop.mesh\n",
      "Location(x=6.419961, y=289.981659, z=0.240000) static.prop.mesh\n",
      "Location(x=9.288971, y=284.219116, z=0.240000) static.prop.mesh\n",
      "Location(x=7.582764, y=284.122498, z=0.240000) static.prop.mesh\n",
      "Location(x=7.295368, y=285.858093, z=0.240000) static.prop.mesh\n",
      "Location(x=9.059960, y=286.151642, z=0.240000) static.prop.mesh\n",
      "Location(x=10.519335, y=289.989594, z=0.262424) static.prop.mesh\n",
      "Location(x=8.812763, y=289.892487, z=0.242695) static.prop.mesh\n",
      "Location(x=8.525750, y=291.627167, z=0.263153) static.prop.mesh\n",
      "Location(x=10.261660, y=291.912994, z=0.305969) static.prop.mesh\n",
      "Location(x=14.029816, y=285.871399, z=0.321650) static.prop.mesh\n",
      "Location(x=12.330777, y=285.727539, z=0.315799) static.prop.mesh\n",
      "Location(x=12.109529, y=287.115295, z=0.265628) static.prop.mesh\n",
      "Location(x=13.864343, y=287.409088, z=0.282445) static.prop.mesh\n",
      "Location(x=14.608962, y=291.559723, z=0.311867) static.prop.mesh\n",
      "Location(x=12.843179, y=291.460144, z=0.369279) static.prop.mesh\n",
      "Location(x=12.561782, y=293.205933, z=0.334218) static.prop.mesh\n",
      "Location(x=14.320565, y=293.490784, z=0.309677) static.prop.mesh\n",
      "Location(x=33.148972, y=291.559113, z=0.240000) static.prop.mesh\n",
      "Location(x=31.442543, y=291.462555, z=0.240652) static.prop.mesh\n",
      "Location(x=31.155355, y=293.198090, z=0.241389) static.prop.mesh\n",
      "Location(x=32.919960, y=293.491669, z=0.240000) static.prop.mesh\n",
      "Location(x=28.658974, y=291.999084, z=0.267975) static.prop.mesh\n",
      "Location(x=26.952116, y=291.904633, z=0.304164) static.prop.mesh\n",
      "Location(x=26.679508, y=293.637909, z=0.293434) static.prop.mesh\n",
      "Location(x=28.429916, y=293.931458, z=0.278391) static.prop.mesh\n",
      "Location(x=32.148899, y=286.329071, z=0.270730) static.prop.mesh\n",
      "Location(x=30.442915, y=286.232330, z=0.277328) static.prop.mesh\n",
      "Location(x=30.155128, y=287.968170, z=0.267959) static.prop.mesh\n",
      "Location(x=31.919846, y=288.261597, z=0.258662) static.prop.mesh\n",
      "Location(x=28.140591, y=283.376617, z=0.274821) static.prop.mesh\n",
      "Location(x=26.432568, y=283.282501, z=0.285391) static.prop.mesh\n",
      "Location(x=26.307585, y=284.979492, z=0.363694) static.prop.mesh\n",
      "Location(x=27.921492, y=285.304657, z=0.292344) static.prop.mesh\n",
      "Location(x=32.858971, y=277.889130, z=0.263719) static.prop.mesh\n",
      "Location(x=31.152758, y=277.792511, z=0.269167) static.prop.mesh\n",
      "Location(x=30.865473, y=279.527344, z=0.308668) static.prop.mesh\n",
      "Location(x=32.640133, y=279.814514, z=0.290430) static.prop.mesh\n",
      "Location(x=27.539059, y=275.148834, z=0.273446) static.prop.mesh\n",
      "Location(x=25.832764, y=275.052429, z=0.283183) static.prop.mesh\n",
      "Location(x=25.545368, y=276.788086, z=0.286875) static.prop.mesh\n",
      "Location(x=27.309929, y=277.081635, z=0.286344) static.prop.mesh\n",
      "Location(x=24.915354, y=279.623199, z=0.291209) static.prop.mesh\n",
      "Location(x=23.212250, y=279.499573, z=0.418669) static.prop.mesh\n",
      "Location(x=22.929651, y=281.255585, z=0.359350) static.prop.mesh\n",
      "Location(x=24.668407, y=281.473419, z=0.284390) static.prop.mesh\n",
      "Location(x=5.675611, y=288.950867, z=0.240000) static.prop.mesh\n",
      "Location(x=8.315611, y=285.120850, z=0.240000) static.prop.mesh\n",
      "Location(x=9.546700, y=290.892426, z=0.271520) static.prop.mesh\n",
      "Location(x=13.129124, y=286.575317, z=0.305587) static.prop.mesh\n",
      "Location(x=13.596577, y=292.505859, z=0.344256) static.prop.mesh\n",
      "Location(x=32.175610, y=292.460846, z=0.240000) static.prop.mesh\n",
      "Location(x=27.685543, y=292.900665, z=0.275216) static.prop.mesh\n",
      "Location(x=31.175604, y=287.230652, z=0.270695) static.prop.mesh\n",
      "Location(x=27.189222, y=284.264923, z=0.302783) static.prop.mesh\n",
      "Location(x=31.885422, y=278.789124, z=0.291251) static.prop.mesh\n",
      "Location(x=26.565575, y=276.050812, z=0.281127) static.prop.mesh\n",
      "Location(x=23.917921, y=280.469910, z=0.354931) static.prop.mesh\n",
      "Location(x=5.900000, y=293.299988, z=0.240000) static.prop.mesh\n",
      "Location(x=104.600044, y=187.919998, z=0.214953) vehicle.lincoln.mkz_2020\n",
      "Location(x=167.070251, y=191.627716, z=0.198250) vehicle.mercedes.sprinter\n",
      "Location(x=193.571701, y=280.942017, z=0.206600) vehicle.gazelle.omafiets\n",
      "Location(x=173.353333, y=240.947998, z=0.286541) vehicle.bmw.grandtourer\n",
      "Location(x=172.343002, y=191.638870, z=0.221970) vehicle.bh.crossbike\n",
      "Location(x=154.127289, y=302.533783, z=0.287785) vehicle.bmw.grandtourer\n",
      "Location(x=167.567032, y=240.944794, z=0.230559) vehicle.jeep.wrangler_rubicon\n",
      "Location(x=150.793823, y=187.619034, z=0.262358) vehicle.mini.cooper_s\n",
      "Location(x=-7.530000, y=158.979996, z=0.213170) vehicle.chevrolet.impala\n",
      "Location(x=-3.311480, y=272.914062, z=0.230388) vehicle.jeep.wrangler_rubicon\n",
      "Location(x=45.852562, y=214.849884, z=0.215129) vehicle.ford.ambulance\n",
      "Location(x=-3.254278, y=297.492859, z=0.227211) vehicle.carlamotors.carlacola\n",
      "Location(x=132.128448, y=220.035568, z=0.208938) vehicle.audi.etron\n",
      "Location(x=-3.438416, y=248.862320, z=0.217644) vehicle.tesla.cybertruck\n",
      "Location(x=45.849407, y=208.408829, z=0.214653) vehicle.seat.leon\n",
      "Location(x=-7.440992, y=153.750015, z=0.165017) vehicle.yamaha.yzf\n",
      "Location(x=-7.399406, y=135.033264, z=0.200987) vehicle.nissan.micra\n",
      "Location(x=-7.393043, y=129.967575, z=0.220463) vehicle.dodge.charger_police_2020\n",
      "Location(x=11.309523, y=109.447823, z=0.238782) vehicle.ford.crown\n",
      "Location(x=-7.419285, y=144.861404, z=0.218601) vehicle.volkswagen.t2_2021\n",
      "Location(x=63.192959, y=236.882355, z=0.202399) vehicle.diamondback.century\n",
      "Location(x=45.413490, y=289.658600, z=0.220633) vehicle.kawasaki.ninja\n",
      "Location(x=-7.409253, y=139.775726, z=0.222954) vehicle.volkswagen.t2\n",
      "Location(x=8.986926, y=105.579071, z=0.215749) vehicle.lincoln.mkz_2020\n",
      "Location(x=18.260633, y=302.549774, z=0.165301) vehicle.yamaha.yzf\n",
      "Location(x=193.685059, y=268.671600, z=0.218538) vehicle.mercedes.coupe_2020\n",
      "Location(x=-7.350863, y=118.592758, z=0.287144) vehicle.bmw.grandtourer\n",
      "Location(x=-3.283641, y=119.388443, z=0.218284) vehicle.tesla.cybertruck\n",
      "Location(x=46.962986, y=117.465515, z=2.905318) vehicle.carlamotors.firetruck\n",
      "Location(x=193.693436, y=258.916962, z=0.165168) vehicle.yamaha.yzf\n",
      "Location(x=-7.433412, y=149.761795, z=0.214898) vehicle.seat.leon\n",
      "Location(x=189.687912, y=193.045685, z=0.254382) vehicle.lincoln.mkz_2017\n",
      "Location(x=67.873726, y=236.884705, z=0.218471) vehicle.mercedes.coupe_2020\n",
      "Location(x=91.979088, y=191.596573, z=0.222621) vehicle.bh.crossbike\n",
      "Location(x=-4.978250, y=110.656059, z=0.208010) vehicle.audi.etron\n",
      "Location(x=66.040649, y=302.536102, z=0.220454) vehicle.dodge.charger_police_2020\n",
      "Location(x=57.796223, y=105.396141, z=0.259381) vehicle.citroen.c3\n",
      "Location(x=114.441826, y=240.913193, z=0.165145) vehicle.yamaha.yzf\n",
      "Location(x=-7.332743, y=124.238419, z=0.210526) vehicle.audi.etron\n",
      "Location(x=104.600044, y=187.919998, z=2.214953) sensor.camera.rgb\n"
     ]
    }
   ],
   "source": [
    "actor_list = world.get_actors()\n",
    "\n",
    "for i in world.get_actors():\n",
    "    print(i.get_location(), i.type_id)"
   ],
   "metadata": {
    "collapsed": false,
    "pycharm": {
     "name": "#%%\n"
    }
   }
  },
  {
   "cell_type": "code",
   "execution_count": 9,
   "outputs": [
    {
     "data": {
      "text/plain": "[<carla.libcarla.Vehicle at 0x1c0b5fa50f0>,\n <carla.libcarla.Vehicle at 0x1c0bb4a1c30>,\n <carla.libcarla.Vehicle at 0x1c0bb4adab0>,\n <carla.libcarla.Vehicle at 0x1c0bb4adc30>,\n <carla.libcarla.Vehicle at 0x1c0bb4ad4b0>,\n <carla.libcarla.Vehicle at 0x1c0bb4add50>,\n <carla.libcarla.Vehicle at 0x1c0bb4addb0>,\n <carla.libcarla.Vehicle at 0x1c0bb4ade10>,\n <carla.libcarla.Vehicle at 0x1c0bb4ade70>,\n <carla.libcarla.Vehicle at 0x1c0bb4aded0>,\n <carla.libcarla.Vehicle at 0x1c0bb4c7210>,\n <carla.libcarla.Vehicle at 0x1c0bb4c7270>,\n <carla.libcarla.Vehicle at 0x1c0bb4c72d0>,\n <carla.libcarla.Vehicle at 0x1c0bb4c7330>,\n <carla.libcarla.Vehicle at 0x1c0bb4c7390>,\n <carla.libcarla.Vehicle at 0x1c0bb4c73f0>,\n <carla.libcarla.Vehicle at 0x1c0bb4c7450>,\n <carla.libcarla.Vehicle at 0x1c0bb4c74b0>,\n <carla.libcarla.Vehicle at 0x1c0bb4c7510>,\n <carla.libcarla.Vehicle at 0x1c0bb4c7570>,\n <carla.libcarla.Vehicle at 0x1c0bb4c75d0>,\n <carla.libcarla.Vehicle at 0x1c0bb4c7630>,\n <carla.libcarla.Vehicle at 0x1c0bb4c7690>,\n <carla.libcarla.Vehicle at 0x1c0bb4c76f0>,\n <carla.libcarla.Vehicle at 0x1c0bb4c7750>,\n <carla.libcarla.Vehicle at 0x1c0bb4c77b0>,\n <carla.libcarla.Vehicle at 0x1c0bb4c7810>,\n <carla.libcarla.Vehicle at 0x1c0bb4c7870>,\n <carla.libcarla.Vehicle at 0x1c0bb4c78d0>,\n <carla.libcarla.Vehicle at 0x1c0bb4c7930>,\n <carla.libcarla.Vehicle at 0x1c0bb4c7990>,\n <carla.libcarla.Vehicle at 0x1c0bb4c79f0>,\n <carla.libcarla.Vehicle at 0x1c0bb4c7a50>,\n <carla.libcarla.Vehicle at 0x1c0bb4c7ab0>,\n <carla.libcarla.Vehicle at 0x1c0bb4c7b10>,\n <carla.libcarla.Vehicle at 0x1c0bb4c7b70>,\n <carla.libcarla.Vehicle at 0x1c0bb4c7bd0>,\n <carla.libcarla.Vehicle at 0x1c0bb4c7c30>,\n <carla.libcarla.Vehicle at 0x1c0bb4c7c90>,\n <carla.libcarla.TrafficLight at 0x1c0bb4adb10>,\n <carla.libcarla.TrafficLight at 0x1c0bb4c7d50>,\n <carla.libcarla.TrafficLight at 0x1c0bb4c7db0>,\n <carla.libcarla.TrafficLight at 0x1c0bb4c7e10>,\n <carla.libcarla.TrafficLight at 0x1c0bb4c7e70>,\n <carla.libcarla.TrafficLight at 0x1c0bb4c7ed0>,\n <carla.libcarla.TrafficLight at 0x1c0bb4c7f30>,\n <carla.libcarla.TrafficLight at 0x1c0bb4c7f90>,\n <carla.libcarla.TrafficLight at 0x1c0bb4cc030>,\n <carla.libcarla.TrafficLight at 0x1c0bb4cc090>,\n <carla.libcarla.TrafficLight at 0x1c0bb4cc0f0>,\n <carla.libcarla.TrafficLight at 0x1c0bb4cc150>,\n <carla.libcarla.TrafficLight at 0x1c0bb4cc1b0>,\n <carla.libcarla.TrafficLight at 0x1c0bb4cc210>,\n <carla.libcarla.TrafficLight at 0x1c0bb4cc270>,\n <carla.libcarla.TrafficLight at 0x1c0bb4cc2d0>,\n <carla.libcarla.TrafficLight at 0x1c0bb4cc330>,\n <carla.libcarla.TrafficLight at 0x1c0bb4cc390>,\n <carla.libcarla.TrafficLight at 0x1c0bb4cc3f0>,\n <carla.libcarla.TrafficLight at 0x1c0bb4cc450>,\n <carla.libcarla.TrafficLight at 0x1c0bb4cc4b0>,\n <carla.libcarla.TrafficLight at 0x1c0bb4cc510>,\n <carla.libcarla.TrafficLight at 0x1c0bb4cc570>,\n <carla.libcarla.TrafficLight at 0x1c0bb4cc5d0>,\n <carla.libcarla.TrafficSign at 0x1c0bb4cc630>,\n <carla.libcarla.TrafficSign at 0x1c0bb4cc690>,\n <carla.libcarla.TrafficSign at 0x1c0bb4cc6f0>,\n <carla.libcarla.TrafficSign at 0x1c0bb4cc750>,\n <carla.libcarla.TrafficSign at 0x1c0bb4cc7b0>,\n <carla.libcarla.TrafficSign at 0x1c0bb4cc810>,\n <carla.libcarla.TrafficSign at 0x1c0bb4cc870>,\n <carla.libcarla.TrafficSign at 0x1c0bb4cc8d0>,\n <carla.libcarla.TrafficSign at 0x1c0bb4cc930>,\n <carla.libcarla.TrafficSign at 0x1c0bb4cc990>,\n <carla.libcarla.TrafficSign at 0x1c0bb4cc9f0>,\n <carla.libcarla.TrafficSign at 0x1c0bb4cca50>,\n <carla.libcarla.TrafficSign at 0x1c0bb4ccab0>,\n <carla.libcarla.TrafficSign at 0x1c0bb4ccb10>,\n <carla.libcarla.TrafficSign at 0x1c0bb4ccb70>,\n <carla.libcarla.TrafficSign at 0x1c0bb4ccbd0>,\n <carla.libcarla.TrafficSign at 0x1c0bb4ccc30>,\n <carla.libcarla.TrafficSign at 0x1c0bb4ccc90>,\n <carla.libcarla.TrafficSign at 0x1c0bb4cccf0>,\n <carla.libcarla.TrafficSign at 0x1c0bb4ccd50>,\n <carla.libcarla.TrafficSign at 0x1c0bb4ccdb0>]"
     },
     "execution_count": 9,
     "metadata": {},
     "output_type": "execute_result"
    }
   ],
   "source": [
    "actor_list = world.get_actors()\n",
    "actors = []\n",
    "for i in world.get_actors().filter('*vehicle*'):\n",
    "    actors.append(i)\n",
    "for i in world.get_actors().filter('*traffic*'):\n",
    "    actors.append(i)\n",
    "actors"
   ],
   "metadata": {
    "collapsed": false,
    "pycharm": {
     "name": "#%%\n"
    }
   }
  },
  {
   "cell_type": "code",
   "execution_count": 12,
   "outputs": [
    {
     "data": {
      "text/plain": "(108.19998168945312, 333.25)"
     },
     "execution_count": 12,
     "metadata": {},
     "output_type": "execute_result"
    }
   ],
   "source": [
    "location = world.get_level_bbs(carla.CityObjectLabel.TrafficSigns)[0].location\n",
    "location.x, location.y"
   ],
   "metadata": {
    "collapsed": false,
    "pycharm": {
     "name": "#%%\n"
    }
   }
  },
  {
   "cell_type": "markdown",
   "source": [
    "## Some issues with conversion from 3D bb to 2"
   ],
   "metadata": {
    "collapsed": false,
    "pycharm": {
     "name": "#%% md\n"
    }
   }
  },
  {
   "cell_type": "code",
   "execution_count": 6,
   "outputs": [
    {
     "name": "stdout",
     "output_type": "stream",
     "text": [
      "187.15576171875 225.91940307617188\n",
      "traffic.traffic_light\n",
      "[292.69756959 303.99074781]\n",
      "[292.62760959 285.2005885 ]\n",
      "[294.42336688 303.95584007]\n",
      "[294.35421797 285.48585001]\n",
      "[288.41489252 304.0124338 ]\n",
      "[288.34588316 285.21925174]\n",
      "[290.21396159 303.9771509 ]\n",
      "[290.14573107 285.50424023]\n",
      "178.96542358398438 243.53421020507812\n",
      "traffic.traffic_light\n",
      "[-285.60635823  309.96850311]\n",
      "[-285.42671956  253.61755497]\n",
      "[-303.60764783  310.06167371]\n",
      "[-303.41576029  253.6734095 ]\n",
      "[-315.06092341  310.31637571]\n",
      "[-314.85281026  251.52447575]\n",
      "[-333.86331331  310.41382751]\n",
      "[-333.64183754  251.58130746]\n",
      "196.0043182373047 251.07061767578125\n",
      "traffic.traffic_light\n",
      "[952.02694802 327.22113422]\n",
      "[948.07151736 -13.77459392]\n",
      "[1209.58713184  338.88782405]\n",
      "[1202.28628803 -158.61939925]\n",
      "[1027.85600763  326.75936733]\n",
      "[1023.60407406  -13.24030398]\n",
      "[1319.16306003  338.16400313]\n",
      "[1311.24475728 -157.22581094]\n"
     ]
    },
    {
     "data": {
      "text/plain": "True"
     },
     "execution_count": 6,
     "metadata": {},
     "output_type": "execute_result"
    }
   ],
   "source": [
    "import cv2\n",
    "#world.tick()\n",
    "bounding_box_set = world.get_level_bbs(carla.CityObjectLabel.TrafficLight)\n",
    "bounding_box_set.extend(world.get_level_bbs(carla.CityObjectLabel.TrafficSigns))\n",
    "edges = [[0,1], [1,3], [3,2], [2,0], [0,4], [4,5], [5,1], [5,7], [7,6], [6,4], [6,2], [7,3]]\n",
    "image = image_queue.get()\n",
    "img = np.reshape(np.copy(image.raw_data), (image.height, image.width, 4))\n",
    "actor_list = world.get_actors()\n",
    "# Get camera matrix\n",
    "world_2_camera = np.array(camera.get_transform().get_inverse_matrix())\n",
    "labs = []\n",
    "x_mins=[]\n",
    "y_mins=[]\n",
    "x_maxs=[]\n",
    "y_maxs=[]\n",
    "files = []\n",
    "for bb in bounding_box_set:\n",
    "    dist = bb.location.distance(vehicle.get_transform().location)\n",
    "    if dist < 30:\n",
    "        forward_vec = vehicle.get_transform().get_forward_vector()\n",
    "        ray = bb.location - vehicle.get_transform().location\n",
    "\n",
    "        if forward_vec.dot(ray) > 1:\n",
    "            lab = \"\"\n",
    "            location_x, location_y = bb.location.x, bb.location.y\n",
    "            print(location_x, location_y)\n",
    "            for i in actor_list:\n",
    "                tmp_x, tmp_y = i.get_location().x, i.get_location().y\n",
    "                if round(location_x) == round(tmp_x) and round(location_y) == round(tmp_y):\n",
    "                    lab = i.type_id\n",
    "                    print(lab)\n",
    "            p1 = get_image_point(bb.location, K,world_2_camera)\n",
    "            verts = [v for v in bb.get_world_vertices(carla.Transform())]\n",
    "            x_max = -10000\n",
    "            x_min = 10000\n",
    "            y_max = -10000\n",
    "            y_min = 10000\n",
    "            for vert in verts:\n",
    "                p = get_image_point(vert, K, world_2_camera)\n",
    "                print(p)\n",
    "                # Find the rightmost vertex\n",
    "                if p[0] > x_max:\n",
    "                    x_max = p[0]\n",
    "                # Find the leftmost vertex\n",
    "                if p[0] < x_min:\n",
    "                    x_min = p[0]\n",
    "                # Find the highest vertex\n",
    "                if p[1] > y_max:\n",
    "                    y_max = p[1]\n",
    "                # Find the lowest  vertex\n",
    "                if p[1] < y_min:\n",
    "                    y_min = p[1]\n",
    "            labs.append(lab)\n",
    "            x_mins.append(x_min)\n",
    "            x_maxs.append(x_max)\n",
    "            y_mins.append(y_min)\n",
    "            y_maxs.append(y_max)\n",
    "\n",
    "\n",
    "\n",
    "            cv2.line(img, (int(x_min),int(y_min)), (int(x_max),int(y_min)), (0,0,255, 255), 1)\n",
    "            cv2.line(img, (int(x_min),int(y_max)), (int(x_max),int(y_max)), (0,0,255, 255), 1)\n",
    "            cv2.line(img, (int(x_min),int(y_min)), (int(x_min),int(y_max)), (0,0,255, 255), 1)\n",
    "            cv2.line(img, (int(x_max),int(y_min)), (int(x_max),int(y_max)), (0,0,255, 255), 1)\n",
    "cv2.imwrite(\"out/test.png\", img)"
   ],
   "metadata": {
    "collapsed": false,
    "pycharm": {
     "name": "#%%\n"
    }
   }
  },
  {
   "cell_type": "code",
   "execution_count": 5,
   "outputs": [],
   "source": [
    "from time import sleep\n",
    "sensor.listen(lambda image: image.save_to_disk('out/%06d.png' % image.frame))\n",
    "sleep(10)\n",
    "sensor.stop()"
   ],
   "metadata": {
    "collapsed": false,
    "pycharm": {
     "name": "#%%\n"
    }
   }
  },
  {
   "cell_type": "code",
   "execution_count": 5,
   "outputs": [],
   "source": [
    "sensor.stop()"
   ],
   "metadata": {
    "collapsed": false,
    "pycharm": {
     "name": "#%%\n"
    }
   }
  },
  {
   "cell_type": "code",
   "execution_count": 5,
   "metadata": {},
   "outputs": [],
   "source": [
    "# Create a transform to place the camera on top of the vehicle\n",
    "camera_init_trans = carla.Transform(carla.Location(z=1.5))\n",
    "\n",
    "# We create the camera through a blueprint that defines its properties\n",
    "camera_bp = world.get_blueprint_library().find('sensor.camera.rgb')\n",
    "\n",
    "# We spawn the camera and attach it to our ego vehicle\n",
    "camera = world.spawn_actor(camera_bp, camera_init_trans, attach_to=ego_vehicle)"
   ]
  },
  {
   "cell_type": "code",
   "execution_count": 6,
   "metadata": {},
   "outputs": [],
   "source": [
    "camera.listen(lambda image: image.save_to_disk('out/%06d.png' % image.frame))"
   ]
  }
 ],
 "metadata": {
  "kernelspec": {
   "display_name": "Python 3 (ipykernel)",
   "language": "python",
   "name": "python3"
  },
  "language_info": {
   "codemirror_mode": {
    "name": "ipython",
    "version": 3
   },
   "file_extension": ".py",
   "mimetype": "text/x-python",
   "name": "python",
   "nbconvert_exporter": "python",
   "pygments_lexer": "ipython3",
   "version": "3.7.1"
  }
 },
 "nbformat": 4,
 "nbformat_minor": 1
}