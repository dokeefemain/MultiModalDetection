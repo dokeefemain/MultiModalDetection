{
 "cells": [
  {
   "cell_type": "code",
   "execution_count": 1,
   "metadata": {
    "collapsed": true
   },
   "outputs": [],
   "source": [
    "import carla\n",
    "import random\n",
    "import queue\n",
    "import numpy as np\n",
    "import cv2\n",
    "import pandas as pd"
   ]
  },
  {
   "cell_type": "code",
   "execution_count": 2,
   "outputs": [],
   "source": [
    "def gen_car(world):\n",
    "    bp_lib = world.get_blueprint_library()\n",
    "    spawn_points = world.get_map().get_spawn_points()\n",
    "    vehicle_bp = bp_lib.find('vehicle.lincoln.mkz_2020')\n",
    "\n",
    "    test = True\n",
    "    while test:\n",
    "        vehicle = world.try_spawn_actor(vehicle_bp, random.choice(spawn_points))\n",
    "        if vehicle:\n",
    "            test = False\n",
    "            vehicle.set_autopilot(True)\n",
    "\n",
    "    camera_r = bp_lib.find('sensor.camera.rgb')\n",
    "    # camera_r.set_attribute('image_size_x', '640')\n",
    "    # camera_r.set_attribute('image_size_y', '480')\n",
    "    camera_init_trans = carla.Transform(carla.Location(z=2))\n",
    "    camera_rgb = world.spawn_actor(camera_r, camera_init_trans, attach_to=vehicle)\n",
    "\n",
    "    camera_d = bp_lib.find('sensor.camera.depth')\n",
    "    # camera_d.set_attribute('image_size_x', '640')\n",
    "    # camera_d.set_attribute('image_size_y', '480')\n",
    "    camera_init_trans = carla.Transform(carla.Location(z=2))\n",
    "    camera_depth = world.spawn_actor(camera_d, camera_init_trans, attach_to=vehicle)\n",
    "\n",
    "    camera_s = bp_lib.find('sensor.camera.semantic_segmentation')\n",
    "    # camera_s.set_attribute('image_size_x', '640')\n",
    "    # camera_s.set_attribute('image_size_y', '480')\n",
    "    camera_init_trans = carla.Transform(carla.Location(z=2))\n",
    "    camera_semantic = world.spawn_actor(camera_s, camera_init_trans, attach_to=vehicle)\n",
    "\n",
    "\n",
    "    rgb_queue = queue.Queue()\n",
    "    camera_rgb.listen(rgb_queue.put)\n",
    "    depth_queue = queue.Queue()\n",
    "    camera_depth.listen(depth_queue.put)\n",
    "    semantic_queue = queue.Queue()\n",
    "    camera_semantic.listen(semantic_queue.put)\n",
    "\n",
    "    return vehicle, rgb_queue, depth_queue, semantic_queue, camera_rgb, camera_depth, camera_semantic"
   ],
   "metadata": {
    "collapsed": false,
    "pycharm": {
     "name": "#%%\n"
    }
   }
  },
  {
   "cell_type": "code",
   "execution_count": 3,
   "outputs": [],
   "source": [
    "client = carla.Client('localhost', 2000)\n",
    "world = client.get_world()\n",
    "bp_lib = world.get_blueprint_library()\n",
    "# Set up the simulator in synchronous mode\n",
    "settings = world.get_settings()\n",
    "settings.synchronous_mode = True # Enables synchronous mode\n",
    "settings.fixed_delta_seconds = 5\n",
    "world.apply_settings(settings)\n",
    "vehicle, rgb_queue, depth_queue, semantic_queue, camera_rgb, camera_depth, camera_semantic = gen_car(world)"
   ],
   "metadata": {
    "collapsed": false,
    "pycharm": {
     "name": "#%%\n"
    }
   }
  },
  {
   "cell_type": "code",
   "execution_count": 4,
   "outputs": [],
   "source": [
    "world.tick()\n",
    "image = semantic_queue.get()\n",
    "img_semantic = np.reshape(np.copy(image.raw_data), (image.height, image.width, 4))"
   ],
   "metadata": {
    "collapsed": false,
    "pycharm": {
     "name": "#%%\n"
    }
   }
  },
  {
   "cell_type": "code",
   "execution_count": 5,
   "outputs": [],
   "source": [
    "arr_depth = img_semantic[:, :, 2]\n",
    "arr_depth[arr_depth != 10] = 0\n",
    "arr_depth[arr_depth == 10] = 1"
   ],
   "metadata": {
    "collapsed": false,
    "pycharm": {
     "name": "#%%\n"
    }
   }
  },
  {
   "cell_type": "code",
   "execution_count": 6,
   "outputs": [],
   "source": [
    "np.save(\"data/remove_car.npy\", arr_depth)"
   ],
   "metadata": {
    "collapsed": false,
    "pycharm": {
     "name": "#%%\n"
    }
   }
  },
  {
   "cell_type": "code",
   "execution_count": 7,
   "outputs": [
    {
     "data": {
      "text/plain": "array([[False, False, False, ..., False, False, False],\n       [False, False, False, ..., False, False, False],\n       [False, False, False, ..., False, False, False],\n       ...,\n       [False, False, False, ..., False, False, False],\n       [False, False, False, ..., False, False, False],\n       [False, False, False, ..., False, False, False]])"
     },
     "execution_count": 7,
     "metadata": {},
     "output_type": "execute_result"
    }
   ],
   "source": [
    "arr_depth == 1"
   ],
   "metadata": {
    "collapsed": false,
    "pycharm": {
     "name": "#%%\n"
    }
   }
  }
 ],
 "metadata": {
  "kernelspec": {
   "display_name": "Python 3",
   "language": "python",
   "name": "python3"
  },
  "language_info": {
   "codemirror_mode": {
    "name": "ipython",
    "version": 2
   },
   "file_extension": ".py",
   "mimetype": "text/x-python",
   "name": "python",
   "nbconvert_exporter": "python",
   "pygments_lexer": "ipython2",
   "version": "2.7.6"
  }
 },
 "nbformat": 4,
 "nbformat_minor": 0
}